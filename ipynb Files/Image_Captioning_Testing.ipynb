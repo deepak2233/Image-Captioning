{
  "nbformat": 4,
  "nbformat_minor": 0,
  "metadata": {
    "colab": {
      "name": "Image Captioning Testing.ipynb",
      "version": "0.3.2",
      "provenance": [],
      "collapsed_sections": [],
      "toc_visible": true
    },
    "kernelspec": {
      "display_name": "Python 3",
      "language": "python",
      "name": "python3"
    },
    "accelerator": "GPU"
  },
  "cells": [
    {
      "metadata": {
        "id": "5kKbQiAjM5Xj",
        "colab_type": "code",
        "colab": {
          "base_uri": "https://localhost:8080/",
          "height": 55
        },
        "outputId": "f40f8205-b6b6-4fb1-e356-db26c7b81731"
      },
      "cell_type": "code",
      "source": [
        "from os import path\n",
        "from wheel.pep425tags import get_abbr_impl, get_impl_ver, get_abi_tag\n",
        "\n",
        "platform = '{}{}-{}'.format(get_abbr_impl(), get_impl_ver(), get_abi_tag())\n",
        "\n",
        "accelerator = 'cu80' if path.exists('/opt/bin/nvidia-smi') else 'cpu'\n",
        "\n",
        "!pip install -q http://download.pytorch.org/whl/{accelerator}/torch-0.4.0-{platform}-linux_x86_64.whl torchvision"
      ],
      "execution_count": 1,
      "outputs": [
        {
          "output_type": "stream",
          "text": [
            "tcmalloc: large alloc 1073750016 bytes == 0x5add6000 @  0x7f4b329e41c4 0x46d6a4 0x5fcbcc 0x4c494d 0x54f3c4 0x553aaf 0x54e4c8 0x54f4f6 0x553aaf 0x54efc1 0x54f24d 0x553aaf 0x54efc1 0x54f24d 0x553aaf 0x54efc1 0x54f24d 0x551ee0 0x54e4c8 0x54f4f6 0x553aaf 0x54efc1 0x54f24d 0x551ee0 0x54efc1 0x54f24d 0x551ee0 0x54e4c8 0x54f4f6 0x553aaf 0x54e4c8\n"
          ],
          "name": "stdout"
        }
      ]
    },
    {
      "metadata": {
        "id": "eFNMrGtK-4Y2",
        "colab_type": "code",
        "colab": {
          "base_uri": "https://localhost:8080/",
          "height": 72
        },
        "outputId": "d9bc0501-051e-4d53-8a71-b295930c9f15"
      },
      "cell_type": "code",
      "source": [
        "import nltk\n",
        "nltk.download('punkt')"
      ],
      "execution_count": 2,
      "outputs": [
        {
          "output_type": "stream",
          "text": [
            "[nltk_data] Downloading package punkt to /root/nltk_data...\n",
            "[nltk_data]   Unzipping tokenizers/punkt.zip.\n"
          ],
          "name": "stdout"
        },
        {
          "output_type": "execute_result",
          "data": {
            "text/plain": [
              "True"
            ]
          },
          "metadata": {
            "tags": []
          },
          "execution_count": 2
        }
      ]
    },
    {
      "metadata": {
        "id": "7zUkjl13NyBx",
        "colab_type": "code",
        "colab": {
          "base_uri": "https://localhost:8080/",
          "height": 164
        },
        "outputId": "a885fcaa-b98d-440e-ca21-99f884c3cd5a"
      },
      "cell_type": "code",
      "source": [
        "!git clone https://github.com/mayankskb/Image-Captioning.git"
      ],
      "execution_count": 3,
      "outputs": [
        {
          "output_type": "stream",
          "text": [
            "Cloning into 'Image-Captioning'...\n",
            "remote: Enumerating objects: 88, done.\u001b[K\n",
            "remote: Counting objects: 100% (88/88), done.\u001b[K\n",
            "remote: Compressing objects: 100% (66/66), done.\u001b[K\n",
            "remote: Total 8463 (delta 46), reused 58 (delta 21), pack-reused 8375\u001b[K\n",
            "Receiving objects: 100% (8463/8463), 1.23 GiB | 15.70 MiB/s, done.\n",
            "Resolving deltas: 100% (256/256), done.\n",
            "Checking out files: 100% (8026/8026), done.\n"
          ],
          "name": "stdout"
        }
      ]
    },
    {
      "metadata": {
        "id": "oD6c8xhpTU9K",
        "colab_type": "code",
        "colab": {
          "base_uri": "https://localhost:8080/",
          "height": 35
        },
        "outputId": "63069164-0220-4aa9-8d0a-30b426067ec0"
      },
      "cell_type": "code",
      "source": [
        "!ls"
      ],
      "execution_count": 4,
      "outputs": [
        {
          "output_type": "stream",
          "text": [
            "Image-Captioning  sample_data\n"
          ],
          "name": "stdout"
        }
      ]
    },
    {
      "metadata": {
        "id": "F6D-VkAfRxd8",
        "colab_type": "code",
        "colab": {
          "base_uri": "https://localhost:8080/",
          "height": 35
        },
        "outputId": "a28ae8d9-6307-4c65-e3cd-9b0f37e25163"
      },
      "cell_type": "code",
      "source": [
        "cd Image-Captioning"
      ],
      "execution_count": 5,
      "outputs": [
        {
          "output_type": "stream",
          "text": [
            "/content/Image-Captioning\n"
          ],
          "name": "stdout"
        }
      ]
    },
    {
      "metadata": {
        "id": "bCXgG_CrSVI_",
        "colab_type": "code",
        "colab": {
          "base_uri": "https://localhost:8080/",
          "height": 54
        },
        "outputId": "fb53ac48-ce6d-434d-b3ec-75c57d8cc77e"
      },
      "cell_type": "code",
      "source": [
        "ls"
      ],
      "execution_count": 6,
      "outputs": [
        {
          "output_type": "stream",
          "text": [
            "\u001b[0m\u001b[01;34mDocuments\u001b[0m/    \u001b[01;34mModel Training\u001b[0m/  \u001b[01;34mPython Files\u001b[0m/  \u001b[01;34msupport\u001b[0m/\n",
            "\u001b[01;34mipynb Files\u001b[0m/  \u001b[01;34mProcessed Data\u001b[0m/  README.md\n"
          ],
          "name": "stdout"
        }
      ]
    },
    {
      "metadata": {
        "id": "h9O-Rk3zSkG1",
        "colab_type": "code",
        "colab": {
          "base_uri": "https://localhost:8080/",
          "height": 35
        },
        "outputId": "6a65cd38-0ba8-4a7a-e903-347cd3a9b7de"
      },
      "cell_type": "code",
      "source": [
        "cd Python\\ Files"
      ],
      "execution_count": 7,
      "outputs": [
        {
          "output_type": "stream",
          "text": [
            "/content/Image-Captioning/Python Files\n"
          ],
          "name": "stdout"
        }
      ]
    },
    {
      "metadata": {
        "id": "TbAV668PSmWl",
        "colab_type": "code",
        "colab": {
          "base_uri": "https://localhost:8080/",
          "height": 54
        },
        "outputId": "b81e1c5a-de36-4238-9d33-6d02ae37282d"
      },
      "cell_type": "code",
      "source": [
        "ls"
      ],
      "execution_count": 8,
      "outputs": [
        {
          "output_type": "stream",
          "text": [
            "DataLoader.py  Encoder.py        testcheck.py  train.py\n",
            "Decoder.py     Preprocessing.py  test.py       Vocab_builder.py\n"
          ],
          "name": "stdout"
        }
      ]
    },
    {
      "metadata": {
        "id": "kC0BTwAXTh5p",
        "colab_type": "code",
        "colab": {
          "base_uri": "https://localhost:8080/",
          "height": 147
        },
        "outputId": "5c57d3b0-a3e0-4bc8-bc63-acb8014c8772"
      },
      "cell_type": "code",
      "source": [
        "!python test.py"
      ],
      "execution_count": 9,
      "outputs": [
        {
          "output_type": "stream",
          "text": [
            "STARTING THE TESTING PHASE ...........\n",
            "Downloading: \"https://download.pytorch.org/models/resnet152-b121ed2d.pth\" to /root/.torch/models/resnet152-b121ed2d.pth\n",
            "100% 241530880/241530880 [00:23<00:00, 10193447.61it/s]\n",
            "Enter the image id for which you want to get caption256085101_2c2617c5d0.jpg\n",
            "../Processed Data/test/images/256085101_2c2617c5d0.jpg\n",
            " wooded area . <end>\n"
          ],
          "name": "stdout"
        }
      ]
    },
    {
      "metadata": {
        "id": "OxcQ2sRqWPDY",
        "colab_type": "code",
        "colab": {
          "base_uri": "https://localhost:8080/",
          "height": 90
        },
        "outputId": "b975aac3-1e46-4540-b735-dd8043f58446"
      },
      "cell_type": "code",
      "source": [
        "!python test.py"
      ],
      "execution_count": 12,
      "outputs": [
        {
          "output_type": "stream",
          "text": [
            "STARTING THE TESTING PHASE ...........\n",
            "Enter the image id for which you want to get caption308487515_7852928f90.jpg\n",
            "../Processed Data/test/images/308487515_7852928f90.jpg\n",
            " plants look into the distance . <end>\n"
          ],
          "name": "stdout"
        }
      ]
    },
    {
      "metadata": {
        "id": "vVrJoMPbWn5S",
        "colab_type": "code",
        "colab": {
          "base_uri": "https://localhost:8080/",
          "height": 90
        },
        "outputId": "6a2a4832-d7ab-4a82-c6af-cc767b292361"
      },
      "cell_type": "code",
      "source": [
        "!python test.py"
      ],
      "execution_count": 13,
      "outputs": [
        {
          "output_type": "stream",
          "text": [
            "STARTING THE TESTING PHASE ...........\n",
            "Enter the image id for which you want to get caption308487515_7852928f90.jpg\n",
            "../Processed Data/test/images/308487515_7852928f90.jpg\n",
            " <NULL> a photo <end>\n"
          ],
          "name": "stdout"
        }
      ]
    },
    {
      "metadata": {
        "id": "E6s8CpRzXQe9",
        "colab_type": "code",
        "colab": {
          "base_uri": "https://localhost:8080/",
          "height": 90
        },
        "outputId": "480dfc76-35de-4c31-c091-a771f8eacb3f"
      },
      "cell_type": "code",
      "source": [
        "!python test.py"
      ],
      "execution_count": 14,
      "outputs": [
        {
          "output_type": "stream",
          "text": [
            "STARTING THE TESTING PHASE ...........\n",
            "Enter the image id for which you want to get caption308487515_7852928f90.jpg\n",
            "../Processed Data/test/images/308487515_7852928f90.jpg\n",
            " spectators nearby . <end>\n"
          ],
          "name": "stdout"
        }
      ]
    },
    {
      "metadata": {
        "id": "bFt4gUmtXXdQ",
        "colab_type": "code",
        "colab": {
          "base_uri": "https://localhost:8080/",
          "height": 90
        },
        "outputId": "a1b555f0-cd50-45a1-f3e6-38091b04c891"
      },
      "cell_type": "code",
      "source": [
        "!python test.py"
      ],
      "execution_count": 15,
      "outputs": [
        {
          "output_type": "stream",
          "text": [
            "STARTING THE TESTING PHASE ...........\n",
            "Enter the image id for which you want to get caption308487515_7852928f90.jpg\n",
            "../Processed Data/test/images/308487515_7852928f90.jpg\n",
            " dock . <end>\n"
          ],
          "name": "stdout"
        }
      ]
    },
    {
      "metadata": {
        "id": "n9SfqutSXebc",
        "colab_type": "code",
        "colab": {
          "base_uri": "https://localhost:8080/",
          "height": 90
        },
        "outputId": "f6453008-a252-47ba-dee5-48ef39161b7c"
      },
      "cell_type": "code",
      "source": [
        "!python test.py"
      ],
      "execution_count": 16,
      "outputs": [
        {
          "output_type": "stream",
          "text": [
            "STARTING THE TESTING PHASE ...........\n",
            "Enter the image id for which you want to get caption308487515_7852928f90.jpg\n",
            "../Processed Data/test/images/308487515_7852928f90.jpg\n",
            " plane are on the snowy street . <end>\n"
          ],
          "name": "stdout"
        }
      ]
    },
    {
      "metadata": {
        "id": "AL2uDjjkXkRN",
        "colab_type": "code",
        "colab": {
          "base_uri": "https://localhost:8080/",
          "height": 90
        },
        "outputId": "9e402a4d-8685-4fbb-9ee3-a33c404a0db6"
      },
      "cell_type": "code",
      "source": [
        "!python test.py"
      ],
      "execution_count": 22,
      "outputs": [
        {
          "output_type": "stream",
          "text": [
            "STARTING THE TESTING PHASE ...........\n",
            "Enter the image id for which you want to get caption308487515_7852928f90.jpg\n",
            "../Processed Data/test/images/308487515_7852928f90.jpg\n",
            " climber busy snow covered snow . <end>\n"
          ],
          "name": "stdout"
        }
      ]
    },
    {
      "metadata": {
        "id": "XjxwOfD0Xrfo",
        "colab_type": "code",
        "colab": {
          "base_uri": "https://localhost:8080/",
          "height": 90
        },
        "outputId": "c743476f-8578-483b-be75-35f5b6a40b52"
      },
      "cell_type": "code",
      "source": [
        "!python test.py"
      ],
      "execution_count": 37,
      "outputs": [
        {
          "output_type": "stream",
          "text": [
            "STARTING THE TESTING PHASE ...........\n",
            "Enter the image id for which you want to get caption421730441_6b2267fd31.jpg\n",
            "../Processed Data/test/images/421730441_6b2267fd31.jpg\n",
            " stairs resting nearby onlookers . <end>\n"
          ],
          "name": "stdout"
        }
      ]
    },
    {
      "metadata": {
        "id": "qoQKSZ5PYSox",
        "colab_type": "code",
        "colab": {
          "base_uri": "https://localhost:8080/",
          "height": 90
        },
        "outputId": "a45267fb-5f2c-4fcf-b369-05195f8218e6"
      },
      "cell_type": "code",
      "source": [
        "!python test.py"
      ],
      "execution_count": 40,
      "outputs": [
        {
          "output_type": "stream",
          "text": [
            "STARTING THE TESTING PHASE ...........\n",
            "Enter the image id for which you want to get caption485245061_5a5de43e20.jpg\n",
            "../Processed Data/test/images/485245061_5a5de43e20.jpg\n",
            " family sits on a bench overlooking the beach . <end>\n"
          ],
          "name": "stdout"
        }
      ]
    },
    {
      "metadata": {
        "id": "EI9SiA5QZ1m8",
        "colab_type": "code",
        "colab": {
          "base_uri": "https://localhost:8080/",
          "height": 90
        },
        "outputId": "7111406b-872f-420c-8523-781fbd1a539c"
      },
      "cell_type": "code",
      "source": [
        "!python test.py"
      ],
      "execution_count": 43,
      "outputs": [
        {
          "output_type": "stream",
          "text": [
            "STARTING THE TESTING PHASE ...........\n",
            "Enter the image id for which you want to get caption485245061_5a5de43e20.jpg\n",
            "../Processed Data/test/images/485245061_5a5de43e20.jpg\n",
            " towards him . <end>\n"
          ],
          "name": "stdout"
        }
      ]
    },
    {
      "metadata": {
        "id": "NxvStF1laP0T",
        "colab_type": "code",
        "colab": {
          "base_uri": "https://localhost:8080/",
          "height": 90
        },
        "outputId": "c1c77a8d-8f18-49cf-8843-f9a1f4a583e4"
      },
      "cell_type": "code",
      "source": [
        "!python test.py"
      ],
      "execution_count": 46,
      "outputs": [
        {
          "output_type": "stream",
          "text": [
            "STARTING THE TESTING PHASE ...........\n",
            "Enter the image id for which you want to get caption485245061_5a5de43e20.jpg\n",
            "../Processed Data/test/images/485245061_5a5de43e20.jpg\n",
            " biking track flag with mountains background . <end>\n"
          ],
          "name": "stdout"
        }
      ]
    },
    {
      "metadata": {
        "id": "6mD-QtBNagvF",
        "colab_type": "code",
        "colab": {
          "base_uri": "https://localhost:8080/",
          "height": 90
        },
        "outputId": "e3f9bc3d-d4c0-4232-a081-b0214cb34882"
      },
      "cell_type": "code",
      "source": [
        "!python test.py"
      ],
      "execution_count": 53,
      "outputs": [
        {
          "output_type": "stream",
          "text": [
            "STARTING THE TESTING PHASE ...........\n",
            "Enter the image id for which you want to get caption485245061_5a5de43e20.jpg\n",
            "../Processed Data/test/images/485245061_5a5de43e20.jpg\n",
            " bending over boy from black hoop . <end>\n"
          ],
          "name": "stdout"
        }
      ]
    },
    {
      "metadata": {
        "id": "45uPYbm7a2_b",
        "colab_type": "code",
        "colab": {
          "base_uri": "https://localhost:8080/",
          "height": 90
        },
        "outputId": "13f045b9-ea09-428f-8397-967f705df0bf"
      },
      "cell_type": "code",
      "source": [
        "!python test.py"
      ],
      "execution_count": 54,
      "outputs": [
        {
          "output_type": "stream",
          "text": [
            "STARTING THE TESTING PHASE ...........\n",
            "Enter the image id for which you want to get caption485245061_5a5de43e20.jpg\n",
            "../Processed Data/test/images/485245061_5a5de43e20.jpg\n",
            " red graffiti covered mountains . <end>\n"
          ],
          "name": "stdout"
        }
      ]
    },
    {
      "metadata": {
        "id": "KIDNhperbc0q",
        "colab_type": "code",
        "colab": {
          "base_uri": "https://localhost:8080/",
          "height": 90
        },
        "outputId": "699c81fe-707d-4b6d-a098-2b43a64832eb"
      },
      "cell_type": "code",
      "source": [
        "!python test.py"
      ],
      "execution_count": 57,
      "outputs": [
        {
          "output_type": "stream",
          "text": [
            "STARTING THE TESTING PHASE ...........\n",
            "Enter the image id for which you want to get caption485245061_5a5de43e20.jpg\n",
            "../Processed Data/test/images/485245061_5a5de43e20.jpg\n",
            " smiling shirt is pointing finger pointing downhill girl . <end>\n"
          ],
          "name": "stdout"
        }
      ]
    },
    {
      "metadata": {
        "id": "G_omnL8Qbj_V",
        "colab_type": "code",
        "colab": {
          "base_uri": "https://localhost:8080/",
          "height": 90
        },
        "outputId": "e0331aca-735b-43de-f12b-c73b282d91e2"
      },
      "cell_type": "code",
      "source": [
        "!python test.py"
      ],
      "execution_count": 60,
      "outputs": [
        {
          "output_type": "stream",
          "text": [
            "STARTING THE TESTING PHASE ...........\n",
            "Enter the image id for which you want to get caption485245061_5a5de43e20.jpg\n",
            "../Processed Data/test/images/485245061_5a5de43e20.jpg\n",
            " photo . <end>\n"
          ],
          "name": "stdout"
        }
      ]
    },
    {
      "metadata": {
        "id": "wonHvhpPb2GP",
        "colab_type": "code",
        "colab": {
          "base_uri": "https://localhost:8080/",
          "height": 90
        },
        "outputId": "d91c9f1d-6d84-48e8-bcea-6cbe904566e3"
      },
      "cell_type": "code",
      "source": [
        "!python test.py"
      ],
      "execution_count": 63,
      "outputs": [
        {
          "output_type": "stream",
          "text": [
            "STARTING THE TESTING PHASE ...........\n",
            "Enter the image id for which you want to get caption485245061_5a5de43e20.jpg\n",
            "../Processed Data/test/images/485245061_5a5de43e20.jpg\n",
            " throw set helmets riding track cars . <end>\n"
          ],
          "name": "stdout"
        }
      ]
    },
    {
      "metadata": {
        "id": "AOSwgG7qcKlg",
        "colab_type": "code",
        "colab": {
          "base_uri": "https://localhost:8080/",
          "height": 90
        },
        "outputId": "a515bb77-5226-471b-a2f1-f79cc877b746"
      },
      "cell_type": "code",
      "source": [
        "!python test.py"
      ],
      "execution_count": 67,
      "outputs": [
        {
          "output_type": "stream",
          "text": [
            "STARTING THE TESTING PHASE ...........\n",
            "Enter the image id for which you want to get caption485245061_5a5de43e20.jpg\n",
            "../Processed Data/test/images/485245061_5a5de43e20.jpg\n",
            " under some rocks set like ice skating 's about some soccer ball . <end>\n"
          ],
          "name": "stdout"
        }
      ]
    },
    {
      "metadata": {
        "id": "ucKuMBUzcdji",
        "colab_type": "code",
        "colab": {
          "base_uri": "https://localhost:8080/",
          "height": 90
        },
        "outputId": "0b74d326-56b9-45e5-dc78-011e2f6f7c4f"
      },
      "cell_type": "code",
      "source": [
        "!python test.py"
      ],
      "execution_count": 68,
      "outputs": [
        {
          "output_type": "stream",
          "text": [
            "STARTING THE TESTING PHASE ...........\n",
            "Enter the image id for which you want to get caption485245061_5a5de43e20.jpg\n",
            "../Processed Data/test/images/485245061_5a5de43e20.jpg\n",
            " sports soccer <NULL> as another person <NULL> . <end>\n"
          ],
          "name": "stdout"
        }
      ]
    },
    {
      "metadata": {
        "id": "d4JW0hwKc76q",
        "colab_type": "code",
        "colab": {
          "base_uri": "https://localhost:8080/",
          "height": 90
        },
        "outputId": "8b88b770-1ff4-491a-8210-d38cf89f13b7"
      },
      "cell_type": "code",
      "source": [
        "!python test.py"
      ],
      "execution_count": 71,
      "outputs": [
        {
          "output_type": "stream",
          "text": [
            "STARTING THE TESTING PHASE ...........\n",
            "Enter the image id for which you want to get caption485245061_5a5de43e20.jpg\n",
            "../Processed Data/test/images/485245061_5a5de43e20.jpg\n",
            " outside he sits . <end>\n"
          ],
          "name": "stdout"
        }
      ]
    },
    {
      "metadata": {
        "id": "D3BkwPbOdFw2",
        "colab_type": "code",
        "colab": {
          "base_uri": "https://localhost:8080/",
          "height": 90
        },
        "outputId": "c44656e3-14df-4de1-9922-f71d1b76214e"
      },
      "cell_type": "code",
      "source": [
        "!python test.py"
      ],
      "execution_count": 80,
      "outputs": [
        {
          "output_type": "stream",
          "text": [
            "STARTING THE TESTING PHASE ...........\n",
            "Enter the image id for which you want to get caption232874193_c691df882d.jpg\n",
            "../Processed Data/test/images/232874193_c691df882d.jpg\n",
            " on the grass . <end>\n"
          ],
          "name": "stdout"
        }
      ]
    },
    {
      "metadata": {
        "id": "bBf7h3-qddjK",
        "colab_type": "code",
        "colab": {
          "base_uri": "https://localhost:8080/",
          "height": 90
        },
        "outputId": "80b7a97d-501d-4668-92a7-1ac58f8bd148"
      },
      "cell_type": "code",
      "source": [
        "!python test.py"
      ],
      "execution_count": 86,
      "outputs": [
        {
          "output_type": "stream",
          "text": [
            "STARTING THE TESTING PHASE ...........\n",
            "Enter the image id for which you want to get caption232874193_c691df882d.jpg\n",
            "../Processed Data/test/images/232874193_c691df882d.jpg\n",
            " necklace haired several white dogs running on the sidewalk . <end>\n"
          ],
          "name": "stdout"
        }
      ]
    },
    {
      "metadata": {
        "id": "1hlerSDjeCaW",
        "colab_type": "code",
        "colab": {
          "base_uri": "https://localhost:8080/",
          "height": 90
        },
        "outputId": "1289d7ab-663b-40e1-8c16-c131a96e5388"
      },
      "cell_type": "code",
      "source": [
        "!python test.py"
      ],
      "execution_count": 90,
      "outputs": [
        {
          "output_type": "stream",
          "text": [
            "STARTING THE TESTING PHASE ...........\n",
            "Enter the image id for which you want to get caption232874193_c691df882d.jpg\n",
            "../Processed Data/test/images/232874193_c691df882d.jpg\n",
            " through the snowy field beside it . <end>\n"
          ],
          "name": "stdout"
        }
      ]
    },
    {
      "metadata": {
        "id": "czpuZFR5eVlI",
        "colab_type": "code",
        "colab": {}
      },
      "cell_type": "code",
      "source": [
        ""
      ],
      "execution_count": 0,
      "outputs": []
    }
  ]
}